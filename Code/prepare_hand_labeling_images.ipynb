{
 "cells": [
  {
   "cell_type": "markdown",
   "metadata": {},
   "source": [
    "# Prepare hand labeling images\n",
    "\n",
    "To benchmark different droplet detection algorithm, we need some \"ground truth\" data for objective evaluation. To generate the \"ground truth\", we will perform hand labeling of droplet locations and sizes on selected images. Each image contains thousands of droplets, so hand labeling everything is too much work. Fortunately, we have some algorithms that can detect the majority of the droplets, so only a small fraction of droplets requires hand labeling, and these droplets are typically the difficult ones for our current algorithm. With the hand labeled data, we can benchmark the algorithms we have, and hopefully improve our droplet detection performance. \n",
    "\n",
    "The hand labeling data are organized in the following structure:\n",
    "\n",
    "```\n",
    "img1\\\n",
    "    img.tif (raw image, gray scale)\n",
    "    prelim_detection.csv (result from current algorithm, [X, Y, R])\n",
    "    hand_labeled_detection.csv\n",
    "    info.txt (image information, allowing us to trace back to the original experiment trial)\n",
    "```\n",
    "\n",
    "In the old data, we have 16 days of experiment in total. We can extract 2 images, one with small droplets and one with large droplets, from each day. In total, 32 images will be prepared for the hand labeling. "
   ]
  }
 ],
 "metadata": {
  "language_info": {
   "name": "python"
  }
 },
 "nbformat": 4,
 "nbformat_minor": 2
}
